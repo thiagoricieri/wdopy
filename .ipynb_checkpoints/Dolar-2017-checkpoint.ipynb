{
 "cells": [
  {
   "cell_type": "markdown",
   "metadata": {},
   "source": [
    "# Análise de Variação do derivativo de Dólar 2016/2017\n",
    "\n",
    "A análise parte do princípio que há uma relação entre os números ao decorrer do dia e como eles se comportam."
   ]
  },
  {
   "cell_type": "markdown",
   "metadata": {},
   "source": [
    "----\n",
    "\n",
    "## Carregamento de Dados\n",
    "\n",
    "Dentro do diretório `data` há todas as planilhas que serão necessárias para analisar a correlação."
   ]
  },
  {
   "cell_type": "code",
   "execution_count": 2,
   "metadata": {
    "collapsed": false
   },
   "outputs": [
    {
     "data": {
      "text/plain": [
       "['wdof17',\n",
       " 'wdog17',\n",
       " 'wdom16',\n",
       " 'wdon16',\n",
       " 'wdoq16',\n",
       " 'wdou16',\n",
       " 'wdov16',\n",
       " 'wdox16',\n",
       " 'wdoz16']"
      ]
     },
     "execution_count": 2,
     "metadata": {},
     "output_type": "execute_result"
    }
   ],
   "source": [
    "from data import DataLoader\n",
    "d = DataLoader()\n",
    "d.select()"
   ]
  },
  {
   "cell_type": "markdown",
   "metadata": {
    "collapsed": true
   },
   "source": [
    "----\n",
    "## Escolha de Meses para Comparação\n",
    "\n",
    "Será necessário escolher um time range para a comparação dos dados. No futuro, será possível usar um algoritmo de regressão para fazer aferições mais exatas. Quem sabe um scrapper para fazer operações por mim também."
   ]
  },
  {
   "cell_type": "markdown",
   "metadata": {},
   "source": [
    "----\n",
    "## Simulação de resultados para cada mês"
   ]
  },
  {
   "cell_type": "code",
   "execution_count": null,
   "metadata": {
    "collapsed": true
   },
   "outputs": [],
   "source": []
  }
 ],
 "metadata": {
  "anaconda-cloud": {},
  "kernelspec": {
   "display_name": "Python 3",
   "language": "python",
   "name": "python3"
  },
  "language_info": {
   "codemirror_mode": {
    "name": "ipython",
    "version": 3
   },
   "file_extension": ".py",
   "mimetype": "text/x-python",
   "name": "python",
   "nbconvert_exporter": "python",
   "pygments_lexer": "ipython3",
   "version": "3.5.2"
  }
 },
 "nbformat": 4,
 "nbformat_minor": 1
}
